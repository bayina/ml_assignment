{
 "cells": [
  {
   "cell_type": "markdown",
   "id": "df951b8b",
   "metadata": {},
   "source": [
    "# Name: Chandhini Bayina \n",
    "# Home Assignment 1: Linear Regression from Scratch: Normal Equation vs Gradient Descent\n",
    "\n",
    "This notebook implements linear regression on a synthetic dataset using **two approaches**:\n",
    "\n",
    "1. **Closed-form (Normal Equation)**  \n",
    "2. **Gradient Descent (from scratch)**\n",
    "\n",
    "You will see:\n",
    "- Raw data scatter plot\n",
    "- Fitted line from the Normal Equation\n",
    "- Fitted line from Gradient Descent\n",
    "- Loss (MSE) vs iterations plot for Gradient Descent\n",
    "- A brief comparison and metrics (MSE and $R^2$)\n",
    "\n",
    "**Note**: Only `numpy` and `matplotlib` are used. No `scikit-learn`.\n"
   ]
  },
  {
   "cell_type": "markdown",
   "id": "4f1083f6",
   "metadata": {},
   "source": [
    "## 1) Imports & Reproducibility\n",
    "We keep dependencies minimal. If you don't have these, install with:\n",
    "\n",
    "```bash\n",
    "pip install numpy matplotlib\n",
    "```\n"
   ]
  },
  {
   "cell_type": "code",
   "execution_count": 1,
   "id": "e84368b5",
   "metadata": {},
   "outputs": [
    {
     "name": "stdout",
     "output_type": "stream",
     "text": [
      "Requirement already satisfied: numpy in /opt/anaconda3/lib/python3.13/site-packages (2.1.3)\n",
      "Requirement already satisfied: matplotlib in /opt/anaconda3/lib/python3.13/site-packages (3.10.0)\n",
      "Requirement already satisfied: contourpy>=1.0.1 in /opt/anaconda3/lib/python3.13/site-packages (from matplotlib) (1.3.1)\n",
      "Requirement already satisfied: cycler>=0.10 in /opt/anaconda3/lib/python3.13/site-packages (from matplotlib) (0.11.0)\n",
      "Requirement already satisfied: fonttools>=4.22.0 in /opt/anaconda3/lib/python3.13/site-packages (from matplotlib) (4.55.3)\n",
      "Requirement already satisfied: kiwisolver>=1.3.1 in /opt/anaconda3/lib/python3.13/site-packages (from matplotlib) (1.4.8)\n",
      "Requirement already satisfied: packaging>=20.0 in /opt/anaconda3/lib/python3.13/site-packages (from matplotlib) (24.2)\n",
      "Requirement already satisfied: pillow>=8 in /opt/anaconda3/lib/python3.13/site-packages (from matplotlib) (11.1.0)\n",
      "Requirement already satisfied: pyparsing>=2.3.1 in /opt/anaconda3/lib/python3.13/site-packages (from matplotlib) (3.2.0)\n",
      "Requirement already satisfied: python-dateutil>=2.7 in /opt/anaconda3/lib/python3.13/site-packages (from matplotlib) (2.9.0.post0)\n",
      "Requirement already satisfied: six>=1.5 in /opt/anaconda3/lib/python3.13/site-packages (from python-dateutil>=2.7->matplotlib) (1.17.0)\n"
     ]
    }
   ],
   "source": [
    "! pip install numpy matplotlib"
   ]
  },
  {
   "cell_type": "code",
   "execution_count": 2,
   "id": "e6622029",
   "metadata": {},
   "outputs": [],
   "source": [
    "import numpy as np\n",
    "import matplotlib.pyplot as plt\n",
    "\n",
    "# for reproducibility\n",
    "np.random.seed(42)\n"
   ]
  },
  {
   "cell_type": "markdown",
   "id": "fbb1664c",
   "metadata": {},
   "source": [
    "## 2) Generate Synthetic Dataset\n",
    "We generate 200 samples with $x \\sim \\mathcal{U}[0,5]$ and \n",
    "$y = 3 + 4x + \\epsilon$, where $\\epsilon \\sim \\mathcal{N}(0, 1^2)$ (Gaussian noise).\n"
   ]
  },
  {
   "cell_type": "code",
   "execution_count": 3,
   "id": "44ee72c8",
   "metadata": {},
   "outputs": [
    {
     "name": "stdout",
     "output_type": "stream",
     "text": [
      "x shape: (200, 1), y shape: (200, 1)\n"
     ]
    }
   ],
   "source": [
    "m = 200  # number of samples\n",
    "x = np.random.uniform(0.0, 5.0, size=(m, 1))  # shape (m, 1)\n",
    "epsilon = np.random.normal(loc=0.0, scale=1.0, size=(m, 1))\n",
    "y = 3.0 + 4.0 * x + epsilon  # true intercept=3, slope=4\n",
    "\n",
    "print(f\"x shape: {x.shape}, y shape: {y.shape}\")\n"
   ]
  },
  {
   "cell_type": "markdown",
   "id": "7d9c9b1f",
   "metadata": {},
   "source": [
    "### Add Bias (Intercept) Column to X\n",
    "We build the design matrix $X$ as `[1, x]` so the parameter vector is $\\theta = [b, w]^T$.\n"
   ]
  },
  {
   "cell_type": "code",
   "execution_count": 4,
   "id": "4bf9066f",
   "metadata": {},
   "outputs": [
    {
     "name": "stdout",
     "output_type": "stream",
     "text": [
      "Design matrix X shape: (200, 2)\n"
     ]
    }
   ],
   "source": [
    "ones = np.ones((m, 1))\n",
    "X = np.concatenate([ones, x], axis=1)  # shape (m, 2)\n",
    "print(\"Design matrix X shape:\", X.shape)\n"
   ]
  },
  {
   "cell_type": "markdown",
   "id": "3caa83e0",
   "metadata": {},
   "source": [
    "## 3) Closed-form Solution (Normal Equation)\n",
    "We compute $\\theta = (X^T X)^{-1} X^T y$ using only `numpy` operations (`np.dot`).\n"
   ]
  },
  {
   "cell_type": "code",
   "execution_count": 5,
   "id": "e282bde6",
   "metadata": {},
   "outputs": [
    {
     "name": "stdout",
     "output_type": "stream",
     "text": [
      "[Normal Eq] Intercept (b): 3.1052, Slope (w): 3.9844\n"
     ]
    }
   ],
   "source": [
    "# Normal Equation using np.dot for matrix multiplication\n",
    "XtX = np.dot(X.T, X)                    # X^T X\n",
    "XtX_inv = np.linalg.inv(XtX)            # (X^T X)^{-1}\n",
    "Xt_y = np.dot(X.T, y)                   # X^T y\n",
    "theta_ne = np.dot(XtX_inv, Xt_y)        # theta\n",
    "\n",
    "b_ne, w_ne = float(theta_ne[0, 0]), float(theta_ne[1, 0])\n",
    "print(f\"[Normal Eq] Intercept (b): {b_ne:.4f}, Slope (w): {w_ne:.4f}\")\n"
   ]
  },
  {
   "cell_type": "markdown",
   "id": "0675f7a4",
   "metadata": {},
   "source": [
    "## 4) Helper Functions: MSE, $R^2$, and Gradient of MSE\n",
    "We use the MSE loss and its gradient with respect to $\\theta$ for gradient descent:\n",
    "\n",
    "$$J(\\theta) = \\frac{1}{m}\\lVert X\\theta - y \\rVert^2$$\n",
    "$$\\nabla J(\\theta) = \\frac{2}{m} X^T (X\\theta - y)$$\n"
   ]
  },
  {
   "cell_type": "code",
   "execution_count": 6,
   "id": "59e581dc",
   "metadata": {},
   "outputs": [],
   "source": [
    "def predict(X, theta):\n",
    "    \"\"\"Return predictions for design matrix X and parameter vector theta.\"\"\"\n",
    "    return np.dot(X, theta)\n",
    "\n",
    "def mse(X, y, theta):\n",
    "    \"\"\"Mean Squared Error using np.dot throughout.\"\"\"\n",
    "    residuals = predict(X, theta) - y\n",
    "    return float(np.dot(residuals.T, residuals) / X.shape[0])\n",
    "\n",
    "def r2_score(X, y, theta):\n",
    "    \"\"\"Coefficient of determination R^2.\"\"\"\n",
    "    y_hat = predict(X, theta)\n",
    "    ss_res = float(np.dot((y - y_hat).T, (y - y_hat)))\n",
    "    y_mean = np.mean(y)\n",
    "    ss_tot = float(np.dot((y - y_mean).T, (y - y_mean)))\n",
    "    return 1.0 - ss_res / ss_tot\n",
    "\n",
    "def grad_mse(X, y, theta):\n",
    "    \"\"\"Gradient of the MSE: (2/m) * X^T (X theta - y).\"\"\"\n",
    "    m = X.shape[0]\n",
    "    return (2.0 / m) * np.dot(X.T, (np.dot(X, theta) - y))\n"
   ]
  },
  {
   "cell_type": "markdown",
   "id": "739570b1",
   "metadata": {},
   "source": [
    "## 5) Gradient Descent Implementation (from scratch)\n",
    "- Initialize $\\theta = [0, 0]^T$  \n",
    "- Learning rate $\\eta = 0.05$  \n",
    "- Run for 1000 iterations  \n",
    "We track the MSE at every iteration to visualize convergence.\n"
   ]
  },
  {
   "cell_type": "code",
   "execution_count": 7,
   "id": "b9f1161c",
   "metadata": {},
   "outputs": [
    {
     "name": "stdout",
     "output_type": "stream",
     "text": [
      "[Grad Descent] Intercept (b): 3.1052, Slope (w): 3.9844\n"
     ]
    },
    {
     "name": "stderr",
     "output_type": "stream",
     "text": [
      "/var/folders/h_/_bjpnb894kgf18frynwf6bww0000gn/T/ipykernel_4555/1646743294.py:8: DeprecationWarning: Conversion of an array with ndim > 0 to a scalar is deprecated, and will error in future. Ensure you extract a single element from your array before performing this operation. (Deprecated NumPy 1.25.)\n",
      "  return float(np.dot(residuals.T, residuals) / X.shape[0])\n"
     ]
    }
   ],
   "source": [
    "def gradient_descent(X, y, lr=0.05, num_iters=1000):\n",
    "    theta = np.zeros((X.shape[1], 1))  # [b, w]^T\n",
    "    losses = []\n",
    "    for i in range(num_iters):\n",
    "        # Compute gradient using only np.dot\n",
    "        g = grad_mse(X, y, theta)\n",
    "        # Parameter update\n",
    "        theta = theta - lr * g\n",
    "        # Track current MSE\n",
    "        losses.append(mse(X, y, theta))\n",
    "    return theta, np.array(losses)\n",
    "\n",
    "theta_gd, losses = gradient_descent(X, y, lr=0.05, num_iters=1000)\n",
    "b_gd, w_gd = float(theta_gd[0, 0]), float(theta_gd[1, 0])\n",
    "print(f\"[Grad Descent] Intercept (b): {b_gd:.4f}, Slope (w): {w_gd:.4f}\")\n"
   ]
  },
  {
   "cell_type": "markdown",
   "id": "d49d92a0",
   "metadata": {},
   "source": [
    "## 6) Metrics & Comparison\n",
    "We compute MSE and $R^2$ for both methods and provide a short commentary.\n"
   ]
  },
  {
   "cell_type": "code",
   "execution_count": 8,
   "id": "0f326b17",
   "metadata": {},
   "outputs": [
    {
     "name": "stdout",
     "output_type": "stream",
     "text": [
      "Metrics (lower MSE and higher R^2 are better):\n",
      "  Normal Eq -> MSE: 0.933826, R^2: 0.973527\n",
      "  GradDesc   -> MSE: 0.933826, R^2: 0.973527\n",
      "\n",
      "Comment:\n",
      "Both methods should converge to very similar parameters and metrics.\n",
      "Small differences arise because gradient descent is iterative and may\n",
      "stop with a tiny optimization error depending on learning rate and iterations.\n"
     ]
    },
    {
     "name": "stderr",
     "output_type": "stream",
     "text": [
      "/var/folders/h_/_bjpnb894kgf18frynwf6bww0000gn/T/ipykernel_4555/1646743294.py:8: DeprecationWarning: Conversion of an array with ndim > 0 to a scalar is deprecated, and will error in future. Ensure you extract a single element from your array before performing this operation. (Deprecated NumPy 1.25.)\n",
      "  return float(np.dot(residuals.T, residuals) / X.shape[0])\n",
      "/var/folders/h_/_bjpnb894kgf18frynwf6bww0000gn/T/ipykernel_4555/1646743294.py:13: DeprecationWarning: Conversion of an array with ndim > 0 to a scalar is deprecated, and will error in future. Ensure you extract a single element from your array before performing this operation. (Deprecated NumPy 1.25.)\n",
      "  ss_res = float(np.dot((y - y_hat).T, (y - y_hat)))\n",
      "/var/folders/h_/_bjpnb894kgf18frynwf6bww0000gn/T/ipykernel_4555/1646743294.py:15: DeprecationWarning: Conversion of an array with ndim > 0 to a scalar is deprecated, and will error in future. Ensure you extract a single element from your array before performing this operation. (Deprecated NumPy 1.25.)\n",
      "  ss_tot = float(np.dot((y - y_mean).T, (y - y_mean)))\n"
     ]
    }
   ],
   "source": [
    "mse_ne = mse(X, y, theta_ne)\n",
    "mse_gd = mse(X, y, theta_gd)\n",
    "r2_ne = r2_score(X, y, theta_ne)\n",
    "r2_gd = r2_score(X, y, theta_gd)\n",
    "\n",
    "print(\"Metrics (lower MSE and higher R^2 are better):\")\n",
    "print(f\"  Normal Eq -> MSE: {mse_ne:.6f}, R^2: {r2_ne:.6f}\")\n",
    "print(f\"  GradDesc   -> MSE: {mse_gd:.6f}, R^2: {r2_gd:.6f}\")\n",
    "\n",
    "print(\"\\nComment:\")\n",
    "print(\"Both methods should converge to very similar parameters and metrics.\\n\"\n",
    "      \"Small differences arise because gradient descent is iterative and may\\n\"\n",
    "      \"stop with a tiny optimization error depending on learning rate and iterations.\")\n"
   ]
  },
  {
   "cell_type": "markdown",
   "id": "ea486ad2",
   "metadata": {},
   "source": [
    "## 7) Plots\n",
    "We produce:\n",
    "1. **Data + Fitted Lines** (Normal Equation and Gradient Descent)\n",
    "2. **Loss (MSE) vs Iterations** for Gradient Descent\n"
   ]
  },
  {
   "cell_type": "code",
   "execution_count": 9,
   "id": "01b266ba",
   "metadata": {},
   "outputs": [
    {
     "data": {
      "image/png": "[encoded data removed]",
      "text/plain": [
       "<Figure size 640x480 with 1 Axes>"
      ]
     },
     "metadata": {},
     "output_type": "display_data"
    }
   ],
   "source": [
    "# 7.1 Raw data and fitted lines\n",
    "plt.figure()\n",
    "plt.scatter(x, y, s=18, label='Raw data')\n",
    "\n",
    "# Build x-axis for line plotting (sorted for a clean line)\n",
    "x_line = np.linspace(0, 5, 200).reshape(-1, 1)\n",
    "X_line = np.concatenate([np.ones_like(x_line), x_line], axis=1)\n",
    "y_ne_line = predict(X_line, theta_ne)\n",
    "y_gd_line = predict(X_line, theta_gd)\n",
    "\n",
    "plt.plot(x_line, y_ne_line, label='Normal Equation fit')\n",
    "plt.plot(x_line, y_gd_line, label='Gradient Descent fit')\n",
    "plt.title('Raw Data with Fitted Lines')\n",
    "plt.xlabel('x')\n",
    "plt.ylabel('y')\n",
    "plt.legend()\n",
    "plt.show()\n"
   ]
  },
  {
   "cell_type": "code",
   "execution_count": 10,
   "id": "968c99b8",
   "metadata": {},
   "outputs": [
    {
     "data": {
      "image/png": "[encoded data removed]",
      "text/plain": [
       "<Figure size 640x480 with 1 Axes>"
      ]
     },
     "metadata": {},
     "output_type": "display_data"
    }
   ],
   "source": [
    "# 7.2 Loss curve (MSE vs iterations) for Gradient Descent\n",
    "plt.figure()\n",
    "plt.plot(np.arange(1, losses.shape[0] + 1), losses)\n",
    "plt.title('Gradient Descent: MSE vs Iterations')\n",
    "plt.xlabel('Iteration')\n",
    "plt.ylabel('MSE')\n",
    "plt.show()\n"
   ]
  },
  {
   "cell_type": "markdown",
   "id": "45a4f885",
   "metadata": {},
   "source": [
    "## 8) Final Notes\n",
    "- Normal Equation gives the **exact** solution (assuming $(X^TX)$ is invertible).  \n",
    "- Gradient Descent converges to the same solution under a good learning rate and enough iterations.  \n",
    "- For very large feature spaces, the Normal Equation is expensive due to the matrix inverse, while Gradient Descent scales better.\n"
   ]
  }
 ],
 "metadata": {
  "created": "2025-09-08T22:38:31.316982Z",
  "kernelspec": {
   "display_name": "Python 3",
   "language": "python",
   "name": "python3"
  },
  "language_info": {
   "codemirror_mode": {
    "name": "ipython",
    "version": 3
   },
   "file_extension": ".py",
   "mimetype": "text/x-python",
   "name": "python",
   "nbconvert_exporter": "python",
   "pygments_lexer": "ipython3",
   "version": "3.13.0"
  }
 },
 "nbformat": 4,
 "nbformat_minor": 5
}
